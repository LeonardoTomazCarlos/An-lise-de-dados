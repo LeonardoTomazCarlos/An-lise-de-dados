{
 "cells": [
  {
   "cell_type": "markdown",
   "id": "8fd4220e",
   "metadata": {},
   "source": [
    "## Analise de Dados\n",
    "\n",
    "Carregando os dados"
   ]
  },
  {
   "cell_type": "code",
   "execution_count": null,
   "id": "7693b795",
   "metadata": {},
   "outputs": [],
   "source": [
    "import pandas as pd\n",
    "\n",
    "dados = pd.read_excel(\"vendas.xlsx\")"
   ]
  },
  {
   "cell_type": "markdown",
   "id": "4021d125",
   "metadata": {},
   "source": [
    "## Análise exploratória \n",
    "\n",
    "Verificando se os dados foram carregados corretamente\n",
    "Para verificar se os dados foram carregados corretamente, podemos utilizar dois métodos do Pandas:\n",
    "\n",
    "head(): mostra as primeiras linhas do conjunto de dados\n",
    "\n",
    "tail(): mostra as últimas linhas do conjunto de dados\n"
   ]
  },
  {
   "cell_type": "code",
   "execution_count": null,
   "id": "07356a44",
   "metadata": {},
   "outputs": [],
   "source": [
    "dados.head()"
   ]
  },
  {
   "cell_type": "code",
   "execution_count": null,
   "id": "398479a3",
   "metadata": {},
   "outputs": [],
   "source": [
    "dados.head()"
   ]
  },
  {
   "cell_type": "markdown",
   "id": "15d23816",
   "metadata": {},
   "source": [
    "Quantidade de linhas e colunas\n",
    "\n",
    "Podemos usar a propriedade shape para verificar a quantidade de linhas e colunas. \n",
    "\n",
    "O primeiro valor é a quantidade de linhas e o segundo a de colunas.\n"
   ]
  },
  {
   "cell_type": "code",
   "execution_count": null,
   "id": "411a7b45",
   "metadata": {},
   "outputs": [],
   "source": [
    "dados.shape"
   ]
  },
  {
   "cell_type": "markdown",
   "id": "f6609af4",
   "metadata": {},
   "source": [
    "Informações sobre as colunas\n",
    "\n",
    "O Pandas tem um método muito poderoso para gerar informações importantes sobre o conjunto de dados:info().\n"
   ]
  },
  {
   "cell_type": "code",
   "execution_count": null,
   "id": "e9e008c5",
   "metadata": {},
   "outputs": [],
   "source": [
    "dados.info()"
   ]
  },
  {
   "cell_type": "markdown",
   "id": "63286699",
   "metadata": {},
   "source": [
    "Gerando estatísticas\n",
    "\n",
    "O método describe() gera estatísticas sobre todas as colunas quantitativas.\n"
   ]
  },
  {
   "cell_type": "code",
   "execution_count": null,
   "id": "d41a8c91",
   "metadata": {},
   "outputs": [],
   "source": [
    "dados.describe()"
   ]
  },
  {
   "cell_type": "markdown",
   "id": "9f1f6f26",
   "metadata": {},
   "source": [
    "# Acessando uma coluna\n",
    "\n",
    "\n",
    "Para acessar uma coluna, podemos utilizar a notação de colchetes, passando o nome da coluna desejada.\n",
    "\n",
    "Caso o nome da coluna não possua espaços em branco de nem caracteres especiais, podemos acessar também com a notação de ponto.\n"
   ]
  },
  {
   "cell_type": "code",
   "execution_count": null,
   "id": "4ce45f5c",
   "metadata": {},
   "outputs": [],
   "source": [
    "dados['loja']"
   ]
  },
  {
   "cell_type": "code",
   "execution_count": null,
   "id": "9693be49",
   "metadata": {},
   "outputs": [],
   "source": [
    "dados.loja"
   ]
  },
  {
   "cell_type": "markdown",
   "id": "8c91e9c8",
   "metadata": {},
   "source": [
    "# Obtendo os únicos de uma coluna\n",
    "Para obter os valores únicos de uma coluna, utilizamos o método unique().\n"
   ]
  },
  {
   "cell_type": "code",
   "execution_count": null,
   "id": "9f48efac",
   "metadata": {},
   "outputs": [],
   "source": [
    "dados['loja'].unique()"
   ]
  },
  {
   "cell_type": "markdown",
   "id": "dfbd71db",
   "metadata": {},
   "source": [
    "# Contagem de valores\n",
    "\n",
    "Para fazer a contagem de valores de uma coluna, podemos utilizar o método value_counts(). \n",
    "\n",
    "Podemos obter também o valor relativo, utilizando o parâmetro normalize=True."
   ]
  },
  {
   "cell_type": "code",
   "execution_count": null,
   "id": "8dcfb400",
   "metadata": {},
   "outputs": [],
   "source": [
    "dados['loja'].value_counts()"
   ]
  },
  {
   "cell_type": "code",
   "execution_count": null,
   "id": "1bcc3169",
   "metadata": {},
   "outputs": [],
   "source": [
    "dados['loja'].value_counts(normalize=True)"
   ]
  },
  {
   "cell_type": "markdown",
   "id": "70fbae7f",
   "metadata": {},
   "source": [
    "# Agrupando dados\n",
    "\n",
    "O método groupby() realiza o agrupamento de dados por determinada coluna.\n",
    "\n",
    "Sempre que utilizarmos o groupby(), precisamos definir o método de agregação que será usado.\n"
   ]
  },
  {
   "cell_type": "code",
   "execution_count": null,
   "id": "01135646",
   "metadata": {},
   "outputs": [],
   "source": [
    "# faturamento por loja\n",
    "\n",
    "dados.groupby('loja').preco.sum()\n"
   ]
  },
  {
   "cell_type": "code",
   "execution_count": null,
   "id": "d4507787",
   "metadata": {},
   "outputs": [],
   "source": [
    "# média de faturament por loja (ticket médio)\n",
    "\n",
    "dados.groupby('loja').preco.mean()\n"
   ]
  },
  {
   "cell_type": "markdown",
   "id": "241659c3",
   "metadata": {},
   "source": [
    "# Gráficos\n",
    "\n",
    "## Instalando e importando a biblioteca de gráficos\n",
    "\n",
    "Para gerar os gráficos vamos utilizar a biblioteca Plotly Express.\n"
   ]
  },
  {
   "cell_type": "code",
   "execution_count": null,
   "id": "5162eb6e",
   "metadata": {},
   "outputs": [],
   "source": [
    "!pip install plotly_express"
   ]
  },
  {
   "cell_type": "code",
   "execution_count": null,
   "id": "ac068580",
   "metadata": {},
   "outputs": [],
   "source": [
    "import plotly_express as px"
   ]
  },
  {
   "cell_type": "markdown",
   "id": "1bead4b1",
   "metadata": {},
   "source": [
    "# Contagem de pedidos por loja\n",
    "\n"
   ]
  },
  {
   "cell_type": "code",
   "execution_count": null,
   "id": "0d335b63",
   "metadata": {},
   "outputs": [],
   "source": [
    "px.histogram(dados, x=\"loja\", color=\"regiao\", text_auto=True)"
   ]
  },
  {
   "cell_type": "markdown",
   "id": "34fa9064",
   "metadata": {},
   "source": [
    "# Criando múltiplos gráficos"
   ]
  },
  {
   "cell_type": "code",
   "execution_count": null,
   "id": "00c248fa",
   "metadata": {},
   "outputs": [],
   "source": [
    "colunas = ['loja', 'cidade', 'estado', 'tamanho', 'local_consumo']\n",
    "\n",
    "for coluna in colunas:\n",
    "fig = px.histogram(dados, x=coluna, y='preco', color='forma_pagamento', text_auto=Tr fig.show()\n"
   ]
  }
 ],
 "metadata": {
  "kernelspec": {
   "display_name": "Python 3 (ipykernel)",
   "language": "python",
   "name": "python3"
  },
  "language_info": {
   "codemirror_mode": {
    "name": "ipython",
    "version": 3
   },
   "file_extension": ".py",
   "mimetype": "text/x-python",
   "name": "python",
   "nbconvert_exporter": "python",
   "pygments_lexer": "ipython3",
   "version": "3.11.5"
  }
 },
 "nbformat": 4,
 "nbformat_minor": 5
}
